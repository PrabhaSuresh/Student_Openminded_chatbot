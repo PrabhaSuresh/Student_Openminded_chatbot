{
 "cells": [
  {
   "cell_type": "code",
   "execution_count": null,
   "metadata": {},
   "outputs": [
    {
     "name": "stderr",
     "output_type": "stream",
     "text": [
      "c:\\Users\\Jarvis\\anaconda3\\envs\\NLP\\Lib\\site-packages\\tqdm\\auto.py:21: TqdmWarning: IProgress not found. Please update jupyter and ipywidgets. See https://ipywidgets.readthedocs.io/en/stable/user_install.html\n",
      "  from .autonotebook import tqdm as notebook_tqdm\n"
     ]
    }
   ],
   "source": [
    "from transformers import AutoModelForCausalLM,AutoTokenizer\n",
    "import torch"
   ]
  },
  {
   "cell_type": "code",
   "execution_count": 2,
   "metadata": {},
   "outputs": [],
   "source": [
    "model_path = r\"D:\\Prabha\\NLP\\Model\\gen_ai_chatbot\\model\\output\\model_6\\save\"\n",
    "model_tokenizer = r\"D:\\Prabha\\NLP\\Model\\gen_ai_chatbot\\model\\output\\model_6\\save\\tokenizer\""
   ]
  },
  {
   "cell_type": "code",
   "execution_count": 3,
   "metadata": {},
   "outputs": [],
   "source": [
    "model = AutoModelForCausalLM.from_pretrained(model_path)\n",
    "tokenizer = AutoTokenizer.from_pretrained(model_tokenizer)"
   ]
  },
  {
   "cell_type": "code",
   "execution_count": 4,
   "metadata": {},
   "outputs": [],
   "source": [
    "device = torch.device(\"cuda\" if torch.cuda.is_available() else \"cpu\")"
   ]
  },
  {
   "cell_type": "code",
   "execution_count": 5,
   "metadata": {},
   "outputs": [],
   "source": [
    "model=model.to(device)"
   ]
  },
  {
   "cell_type": "code",
   "execution_count": 10,
   "metadata": {},
   "outputs": [],
   "source": [
    "prompt = str(input(\"Enter prompt: \"))"
   ]
  },
  {
   "cell_type": "code",
   "execution_count": 14,
   "metadata": {},
   "outputs": [
    {
     "name": "stdout",
     "output_type": "stream",
     "text": [
      "what is gold?\" \"Gold is a metal.\" \"It is composed of three elements:\" \"carbon, hydrogen and oxygen.\" carbon is the most abundant of the three and it is found in the cell of all living things. carbon has a special property called carbonititicity. This property makes it a very reactive metal. Carbon is also called a carbide or a carbon monoxide.\" Carbon monoxides are found mainly in coal and petroleum. They are also present in some rocks and in rocks that have been subjected to high pressure and temperature. These mon oxides can be converted into dioxide, which is an extremely hard material. The carbon dioxide is very hard and can only be melted at high temperature and pressure. It is called Carbon Dioxide or Carbon Monoxide.Carbon monOxide is one of several different types of carbon containing oxirane. Monoxers are those in which all the oxygen has been replaced by one carbon. A.g. CO CO W ood CO\n"
     ]
    }
   ],
   "source": [
    "inputs = tokenizer(prompt, return_tensors=\"pt\",padding=True,truncation=True,max_length=512).to(device)\n",
    "\n",
    "outputs = model.generate(\n",
    "    inputs['input_ids'], \n",
    "    attention_mask=inputs['attention_mask'],\n",
    "    temperature=0.2,        \n",
    "    max_length=200,          \n",
    "    num_return_sequences=1,\n",
    "    no_repeat_ngram_size=2,  \n",
    "    top_k=50 ,               \n",
    "    top_p=0.90,\n",
    "    pad_token_id= tokenizer.eos_token_id,\n",
    "    do_sample=True\n",
    ")\n",
    "\n",
    "response = tokenizer.decode(outputs[0], skip_special_tokens=True).strip()\n",
    "print(response)\n"
   ]
  },
  {
   "cell_type": "code",
   "execution_count": 8,
   "metadata": {},
   "outputs": [
    {
     "name": "stdout",
     "output_type": "stream",
     "text": [
      "perplexity is 1.7833\n"
     ]
    }
   ],
   "source": [
    "import math\n",
    "loss = 0.5784547483479535\n",
    "perplexity = math.exp(loss)\n",
    "print(f\"perplexity is {perplexity:.4f}\")"
   ]
  },
  {
   "cell_type": "code",
   "execution_count": null,
   "metadata": {},
   "outputs": [],
   "source": []
  }
 ],
 "metadata": {
  "kernelspec": {
   "display_name": "NLP",
   "language": "python",
   "name": "python3"
  },
  "language_info": {
   "codemirror_mode": {
    "name": "ipython",
    "version": 3
   },
   "file_extension": ".py",
   "mimetype": "text/x-python",
   "name": "python",
   "nbconvert_exporter": "python",
   "pygments_lexer": "ipython3",
   "version": "3.11.10"
  }
 },
 "nbformat": 4,
 "nbformat_minor": 2
}
